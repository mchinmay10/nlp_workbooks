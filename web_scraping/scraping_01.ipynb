{
 "cells": [
  {
   "cell_type": "markdown",
   "id": "2a29f635-c307-4aea-bbc5-37fa0c7eab2e",
   "metadata": {},
   "source": [
    "### Beautiful Soup"
   ]
  },
  {
   "cell_type": "code",
   "execution_count": 1,
   "id": "d8ed74a8-218a-47b2-8492-37a23123ab0c",
   "metadata": {},
   "outputs": [],
   "source": [
    "from bs4 import BeautifulSoup\n",
    "import requests"
   ]
  },
  {
   "cell_type": "code",
   "execution_count": 9,
   "id": "3b698aaf-fbe4-48b2-b8fa-c001c99eec66",
   "metadata": {},
   "outputs": [],
   "source": [
    "url = 'https://sci-hub.se/https://doi.org/10.1016/0272-7358(85)90010-8'\n",
    "response = requests.get(url).text\n",
    "soup_1 = BeautifulSoup(response, 'lxml')"
   ]
  },
  {
   "cell_type": "code",
   "execution_count": 13,
   "id": "5ec0b20c-9080-43a0-911e-30747fdad85e",
   "metadata": {},
   "outputs": [
    {
     "name": "stdout",
     "output_type": "stream",
     "text": [
      "<!doctype html><html><head><title>DDoS-Guard</title><meta charset=\"utf-8\"/><meta name=\"viewport\" content=\"width=device-width,initial-scale=1\"/><link rel=\"stylesheet\" href=\"/.well-known/ddos-guard/js-challenge/index.css\"><script defer=\"defer\" src=\"/.well-known/ddos-guard/js-challenge/view.js\"></script><script defer=\"defer\" src=\"/.well-known/ddos-guard/js-challenge/index.js\"></script><script src=\"https://check.ddos-guard.net/check.js\"></script></head><body data-ddg-origin=\"true\" data-ddg-l10n=\"true\"><div class=\"container\"><div class=\"top\"><h1 id=\"ddg-l10n-title\">Checking your browser before accessing <span class=\"ddg-origin\"></span></h1><p id=\"ddg-l10n-description\">Please wait a few seconds. Once this check is complete, the website will open automatically</p><img id=\"ddg-img-loading\" src=\"\" alt=\"loading\"/></div><div class=\"bottom\"><span id=\"request-info\"></span></div></div></body></html>\n"
     ]
    }
   ],
   "source": [
    "print(response)"
   ]
  },
  {
   "cell_type": "code",
   "execution_count": 14,
   "id": "e623f7b1",
   "metadata": {},
   "outputs": [
    {
     "data": {
      "text/plain": [
       "'Checking your browser before accessing Please wait a few seconds. Once this check is complete, the website will open automatically'"
      ]
     },
     "execution_count": 14,
     "metadata": {},
     "output_type": "execute_result"
    }
   ],
   "source": [
    "soup_1.find('body').text"
   ]
  },
  {
   "cell_type": "code",
   "execution_count": null,
   "id": "907bf2ee",
   "metadata": {},
   "outputs": [],
   "source": []
  }
 ],
 "metadata": {
  "kernelspec": {
   "display_name": "venv (3.10.13)",
   "language": "python",
   "name": "python3"
  },
  "language_info": {
   "codemirror_mode": {
    "name": "ipython",
    "version": 3
   },
   "file_extension": ".py",
   "mimetype": "text/x-python",
   "name": "python",
   "nbconvert_exporter": "python",
   "pygments_lexer": "ipython3",
   "version": "3.10.13"
  }
 },
 "nbformat": 4,
 "nbformat_minor": 5
}
